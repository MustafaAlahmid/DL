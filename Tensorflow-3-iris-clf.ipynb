{
 "cells": [
  {
   "cell_type": "code",
   "execution_count": 1,
   "metadata": {},
   "outputs": [],
   "source": [
    "from __future__ import absolute_import, division, print_function, unicode_literals\n",
    "\n",
    "\n",
    "import tensorflow as tf\n",
    "\n",
    "import pandas as pd"
   ]
  },
  {
   "cell_type": "code",
   "execution_count": 2,
   "metadata": {},
   "outputs": [],
   "source": [
    "CSV_COLUMN_NAMES = ['SepalLength', 'SepalWidth', 'PetalLength', 'PetalWidth', 'Species']\n",
    "SPECIES = ['Setosa', 'Versicolor', 'Virginica']\n",
    "# Lets define some constants to help us later on"
   ]
  },
  {
   "cell_type": "code",
   "execution_count": 3,
   "metadata": {},
   "outputs": [],
   "source": [
    "train_path = tf.keras.utils.get_file(\n",
    "    \"iris_training.csv\", \"https://storage.googleapis.com/download.tensorflow.org/data/iris_training.csv\")\n",
    "test_path = tf.keras.utils.get_file(\n",
    "    \"iris_test.csv\", \"https://storage.googleapis.com/download.tensorflow.org/data/iris_test.csv\")\n",
    "\n",
    "train = pd.read_csv(train_path, names=CSV_COLUMN_NAMES, header=0)\n",
    "test = pd.read_csv(test_path, names=CSV_COLUMN_NAMES, header=0)"
   ]
  },
  {
   "cell_type": "code",
   "execution_count": 4,
   "metadata": {},
   "outputs": [
    {
     "data": {
      "text/html": [
       "<div>\n",
       "<style scoped>\n",
       "    .dataframe tbody tr th:only-of-type {\n",
       "        vertical-align: middle;\n",
       "    }\n",
       "\n",
       "    .dataframe tbody tr th {\n",
       "        vertical-align: top;\n",
       "    }\n",
       "\n",
       "    .dataframe thead th {\n",
       "        text-align: right;\n",
       "    }\n",
       "</style>\n",
       "<table border=\"1\" class=\"dataframe\">\n",
       "  <thead>\n",
       "    <tr style=\"text-align: right;\">\n",
       "      <th></th>\n",
       "      <th>SepalLength</th>\n",
       "      <th>SepalWidth</th>\n",
       "      <th>PetalLength</th>\n",
       "      <th>PetalWidth</th>\n",
       "      <th>Species</th>\n",
       "    </tr>\n",
       "  </thead>\n",
       "  <tbody>\n",
       "    <tr>\n",
       "      <th>0</th>\n",
       "      <td>6.4</td>\n",
       "      <td>2.8</td>\n",
       "      <td>5.6</td>\n",
       "      <td>2.2</td>\n",
       "      <td>2</td>\n",
       "    </tr>\n",
       "    <tr>\n",
       "      <th>1</th>\n",
       "      <td>5.0</td>\n",
       "      <td>2.3</td>\n",
       "      <td>3.3</td>\n",
       "      <td>1.0</td>\n",
       "      <td>1</td>\n",
       "    </tr>\n",
       "    <tr>\n",
       "      <th>2</th>\n",
       "      <td>4.9</td>\n",
       "      <td>2.5</td>\n",
       "      <td>4.5</td>\n",
       "      <td>1.7</td>\n",
       "      <td>2</td>\n",
       "    </tr>\n",
       "    <tr>\n",
       "      <th>3</th>\n",
       "      <td>4.9</td>\n",
       "      <td>3.1</td>\n",
       "      <td>1.5</td>\n",
       "      <td>0.1</td>\n",
       "      <td>0</td>\n",
       "    </tr>\n",
       "    <tr>\n",
       "      <th>4</th>\n",
       "      <td>5.7</td>\n",
       "      <td>3.8</td>\n",
       "      <td>1.7</td>\n",
       "      <td>0.3</td>\n",
       "      <td>0</td>\n",
       "    </tr>\n",
       "  </tbody>\n",
       "</table>\n",
       "</div>"
      ],
      "text/plain": [
       "   SepalLength  SepalWidth  PetalLength  PetalWidth  Species\n",
       "0          6.4         2.8          5.6         2.2        2\n",
       "1          5.0         2.3          3.3         1.0        1\n",
       "2          4.9         2.5          4.5         1.7        2\n",
       "3          4.9         3.1          1.5         0.1        0\n",
       "4          5.7         3.8          1.7         0.3        0"
      ]
     },
     "execution_count": 4,
     "metadata": {},
     "output_type": "execute_result"
    }
   ],
   "source": [
    "train.head()"
   ]
  },
  {
   "cell_type": "code",
   "execution_count": 5,
   "metadata": {},
   "outputs": [
    {
     "data": {
      "text/plain": [
       "(120, 5)"
      ]
     },
     "execution_count": 5,
     "metadata": {},
     "output_type": "execute_result"
    }
   ],
   "source": [
    "train.shape"
   ]
  },
  {
   "cell_type": "raw",
   "metadata": {},
   "source": []
  },
  {
   "cell_type": "code",
   "execution_count": 6,
   "metadata": {},
   "outputs": [],
   "source": [
    "y_train = train.pop(\"Species\")\n",
    "y_test = test.pop(\"Species\")"
   ]
  },
  {
   "cell_type": "code",
   "execution_count": 7,
   "metadata": {},
   "outputs": [
    {
     "data": {
      "text/plain": [
       "((120,), (30,))"
      ]
     },
     "execution_count": 7,
     "metadata": {},
     "output_type": "execute_result"
    }
   ],
   "source": [
    "y_train.shape, y_test.shape"
   ]
  },
  {
   "cell_type": "code",
   "execution_count": 8,
   "metadata": {},
   "outputs": [],
   "source": [
    "def input_fn(features, labels, training=True, batch_size=256):\n",
    "    # Convert the inputs to a Dataset.\n",
    "    dataset = tf.data.Dataset.from_tensor_slices((dict(features), labels))\n",
    "\n",
    "    # Shuffle and repeat if you are in training mode.\n",
    "    if training:\n",
    "        dataset = dataset.shuffle(1000).repeat()\n",
    "    \n",
    "    return dataset.batch(batch_size)\n"
   ]
  },
  {
   "cell_type": "code",
   "execution_count": 9,
   "metadata": {},
   "outputs": [],
   "source": [
    "# X_train = input_fn(train, y_train,)\n",
    "# X_test = input_fn(test, y_test)"
   ]
  },
  {
   "cell_type": "code",
   "execution_count": 10,
   "metadata": {},
   "outputs": [
    {
     "name": "stdout",
     "output_type": "stream",
     "text": [
      "[NumericColumn(key='SepalLength', shape=(1,), default_value=None, dtype=tf.float32, normalizer_fn=None), NumericColumn(key='SepalWidth', shape=(1,), default_value=None, dtype=tf.float32, normalizer_fn=None), NumericColumn(key='PetalLength', shape=(1,), default_value=None, dtype=tf.float32, normalizer_fn=None), NumericColumn(key='PetalWidth', shape=(1,), default_value=None, dtype=tf.float32, normalizer_fn=None)]\n"
     ]
    }
   ],
   "source": [
    "# Feature columns describe how to use the input.\n",
    "my_feature_columns = []\n",
    "for key in train.keys():\n",
    "    my_feature_columns.append(tf.feature_column.numeric_column(key=key))\n",
    "print(my_feature_columns)"
   ]
  },
  {
   "cell_type": "code",
   "execution_count": 11,
   "metadata": {},
   "outputs": [
    {
     "name": "stdout",
     "output_type": "stream",
     "text": [
      "INFO:tensorflow:Using default config.\n",
      "WARNING:tensorflow:Using temporary folder as model directory: /tmp/tmptkl14vzi\n",
      "INFO:tensorflow:Using config: {'_model_dir': '/tmp/tmptkl14vzi', '_tf_random_seed': None, '_save_summary_steps': 100, '_save_checkpoints_steps': None, '_save_checkpoints_secs': 600, '_session_config': allow_soft_placement: true\n",
      "graph_options {\n",
      "  rewrite_options {\n",
      "    meta_optimizer_iterations: ONE\n",
      "  }\n",
      "}\n",
      ", '_keep_checkpoint_max': 5, '_keep_checkpoint_every_n_hours': 10000, '_log_step_count_steps': 100, '_train_distribute': None, '_device_fn': None, '_protocol': None, '_eval_distribute': None, '_experimental_distribute': None, '_experimental_max_worker_delay_secs': None, '_session_creation_timeout_secs': 7200, '_service': None, '_cluster_spec': ClusterSpec({}), '_task_type': 'worker', '_task_id': 0, '_global_id_in_cluster': 0, '_master': '', '_evaluation_master': '', '_is_chief': True, '_num_ps_replicas': 0, '_num_worker_replicas': 1}\n"
     ]
    }
   ],
   "source": [
    "# Build a DNN with 2 hidden layers with 30 and 10 hidden nodes each.\n",
    "classifier = tf.estimator.DNNClassifier(\n",
    "    feature_columns=my_feature_columns,\n",
    "    # Two hidden layers of 30 and 10 nodes respectively.\n",
    "    hidden_units=[30, 10],\n",
    "    # The model must choose between 3 classes.\n",
    "    n_classes=3)"
   ]
  },
  {
   "cell_type": "code",
   "execution_count": 14,
   "metadata": {},
   "outputs": [
    {
     "name": "stdout",
     "output_type": "stream",
     "text": [
      "WARNING:tensorflow:From /home/mustafa/anaconda3/lib/python3.7/site-packages/tensorflow/python/training/training_util.py:236: Variable.initialized_value (from tensorflow.python.ops.variables) is deprecated and will be removed in a future version.\n",
      "Instructions for updating:\n",
      "Use Variable.read_value. Variables in 2.X are initialized automatically both in eager and graph (inside tf.defun) contexts.\n",
      "INFO:tensorflow:Calling model_fn.\n",
      "WARNING:tensorflow:Layer dnn is casting an input tensor from dtype float64 to the layer's dtype of float32, which is new behavior in TensorFlow 2.  The layer has dtype float32 because its dtype defaults to floatx.\n",
      "\n",
      "If you intended to run this layer in float32, you can safely ignore this warning. If in doubt, this warning is likely only an issue if you are porting a TensorFlow 1.X model to TensorFlow 2.\n",
      "\n",
      "To change all layers to have dtype float64 by default, call `tf.keras.backend.set_floatx('float64')`. To change just this layer, pass dtype='float64' to the layer constructor. If you are the author of this layer, you can disable autocasting by passing autocast=False to the base Layer constructor.\n",
      "\n",
      "WARNING:tensorflow:From /home/mustafa/anaconda3/lib/python3.7/site-packages/tensorflow/python/keras/optimizer_v2/adagrad.py:83: calling Constant.__init__ (from tensorflow.python.ops.init_ops) with dtype is deprecated and will be removed in a future version.\n",
      "Instructions for updating:\n",
      "Call initializer instance with the dtype argument instead of passing it to the constructor\n",
      "INFO:tensorflow:Done calling model_fn.\n",
      "INFO:tensorflow:Create CheckpointSaverHook.\n",
      "INFO:tensorflow:Graph was finalized.\n",
      "INFO:tensorflow:Running local_init_op.\n",
      "INFO:tensorflow:Done running local_init_op.\n",
      "INFO:tensorflow:Calling checkpoint listeners before saving checkpoint 0...\n",
      "INFO:tensorflow:Saving checkpoints for 0 into /tmp/tmptkl14vzi/model.ckpt.\n",
      "INFO:tensorflow:Calling checkpoint listeners after saving checkpoint 0...\n",
      "INFO:tensorflow:loss = 1.1840014, step = 0\n",
      "INFO:tensorflow:global_step/sec: 555.093\n",
      "INFO:tensorflow:loss = 0.8921606, step = 100 (0.181 sec)\n",
      "INFO:tensorflow:global_step/sec: 679.211\n",
      "INFO:tensorflow:loss = 0.82871455, step = 200 (0.147 sec)\n",
      "INFO:tensorflow:global_step/sec: 689.686\n",
      "INFO:tensorflow:loss = 0.78175247, step = 300 (0.145 sec)\n",
      "INFO:tensorflow:global_step/sec: 751.684\n",
      "INFO:tensorflow:loss = 0.7470211, step = 400 (0.133 sec)\n",
      "INFO:tensorflow:global_step/sec: 718.865\n",
      "INFO:tensorflow:loss = 0.71351206, step = 500 (0.139 sec)\n",
      "INFO:tensorflow:global_step/sec: 731.916\n",
      "INFO:tensorflow:loss = 0.6934496, step = 600 (0.137 sec)\n",
      "INFO:tensorflow:global_step/sec: 697.392\n",
      "INFO:tensorflow:loss = 0.67856306, step = 700 (0.143 sec)\n",
      "INFO:tensorflow:global_step/sec: 695.777\n",
      "INFO:tensorflow:loss = 0.6606926, step = 800 (0.144 sec)\n",
      "INFO:tensorflow:global_step/sec: 754.268\n",
      "INFO:tensorflow:loss = 0.6319195, step = 900 (0.133 sec)\n",
      "INFO:tensorflow:global_step/sec: 722.614\n",
      "INFO:tensorflow:loss = 0.61563873, step = 1000 (0.139 sec)\n",
      "INFO:tensorflow:global_step/sec: 698.181\n",
      "INFO:tensorflow:loss = 0.60561395, step = 1100 (0.142 sec)\n",
      "INFO:tensorflow:global_step/sec: 692.497\n",
      "INFO:tensorflow:loss = 0.58584005, step = 1200 (0.144 sec)\n",
      "INFO:tensorflow:global_step/sec: 756.171\n",
      "INFO:tensorflow:loss = 0.5803, step = 1300 (0.132 sec)\n",
      "INFO:tensorflow:global_step/sec: 689.815\n",
      "INFO:tensorflow:loss = 0.5689455, step = 1400 (0.145 sec)\n",
      "INFO:tensorflow:global_step/sec: 724.222\n",
      "INFO:tensorflow:loss = 0.5539981, step = 1500 (0.138 sec)\n",
      "INFO:tensorflow:global_step/sec: 724.737\n",
      "INFO:tensorflow:loss = 0.545153, step = 1600 (0.138 sec)\n",
      "INFO:tensorflow:global_step/sec: 698.438\n",
      "INFO:tensorflow:loss = 0.54552245, step = 1700 (0.143 sec)\n",
      "INFO:tensorflow:global_step/sec: 745.7\n",
      "INFO:tensorflow:loss = 0.5289535, step = 1800 (0.135 sec)\n",
      "INFO:tensorflow:global_step/sec: 702.605\n",
      "INFO:tensorflow:loss = 0.52215576, step = 1900 (0.141 sec)\n",
      "INFO:tensorflow:global_step/sec: 724.858\n",
      "INFO:tensorflow:loss = 0.5161912, step = 2000 (0.138 sec)\n",
      "INFO:tensorflow:global_step/sec: 726.612\n",
      "INFO:tensorflow:loss = 0.49881703, step = 2100 (0.137 sec)\n",
      "INFO:tensorflow:global_step/sec: 753.519\n",
      "INFO:tensorflow:loss = 0.50614643, step = 2200 (0.133 sec)\n",
      "INFO:tensorflow:global_step/sec: 705.189\n",
      "INFO:tensorflow:loss = 0.49062052, step = 2300 (0.142 sec)\n",
      "INFO:tensorflow:global_step/sec: 716.374\n",
      "INFO:tensorflow:loss = 0.48650825, step = 2400 (0.140 sec)\n",
      "INFO:tensorflow:global_step/sec: 692.417\n",
      "INFO:tensorflow:loss = 0.48946276, step = 2500 (0.145 sec)\n",
      "INFO:tensorflow:global_step/sec: 710.174\n",
      "INFO:tensorflow:loss = 0.48268193, step = 2600 (0.141 sec)\n",
      "INFO:tensorflow:global_step/sec: 702.556\n",
      "INFO:tensorflow:loss = 0.46882945, step = 2700 (0.142 sec)\n",
      "INFO:tensorflow:global_step/sec: 718.304\n",
      "INFO:tensorflow:loss = 0.46349174, step = 2800 (0.139 sec)\n",
      "INFO:tensorflow:global_step/sec: 710.301\n",
      "INFO:tensorflow:loss = 0.45059377, step = 2900 (0.141 sec)\n",
      "INFO:tensorflow:global_step/sec: 716.094\n",
      "INFO:tensorflow:loss = 0.45299992, step = 3000 (0.140 sec)\n",
      "INFO:tensorflow:global_step/sec: 697.132\n",
      "INFO:tensorflow:loss = 0.44307476, step = 3100 (0.143 sec)\n",
      "INFO:tensorflow:global_step/sec: 690.072\n",
      "INFO:tensorflow:loss = 0.44234335, step = 3200 (0.145 sec)\n",
      "INFO:tensorflow:global_step/sec: 688.818\n",
      "INFO:tensorflow:loss = 0.44331154, step = 3300 (0.145 sec)\n",
      "INFO:tensorflow:global_step/sec: 690.303\n",
      "INFO:tensorflow:loss = 0.43865588, step = 3400 (0.145 sec)\n",
      "INFO:tensorflow:global_step/sec: 699.47\n",
      "INFO:tensorflow:loss = 0.44098085, step = 3500 (0.143 sec)\n",
      "INFO:tensorflow:global_step/sec: 716.086\n",
      "INFO:tensorflow:loss = 0.42888737, step = 3600 (0.140 sec)\n",
      "INFO:tensorflow:global_step/sec: 707.471\n",
      "INFO:tensorflow:loss = 0.42143995, step = 3700 (0.141 sec)\n",
      "INFO:tensorflow:global_step/sec: 716.723\n",
      "INFO:tensorflow:loss = 0.41425285, step = 3800 (0.139 sec)\n",
      "INFO:tensorflow:global_step/sec: 718.154\n",
      "INFO:tensorflow:loss = 0.41905957, step = 3900 (0.139 sec)\n",
      "INFO:tensorflow:global_step/sec: 710.308\n",
      "INFO:tensorflow:loss = 0.412097, step = 4000 (0.141 sec)\n",
      "INFO:tensorflow:global_step/sec: 687.215\n",
      "INFO:tensorflow:loss = 0.3985715, step = 4100 (0.145 sec)\n",
      "INFO:tensorflow:global_step/sec: 739.94\n",
      "INFO:tensorflow:loss = 0.4050677, step = 4200 (0.135 sec)\n",
      "INFO:tensorflow:global_step/sec: 728.034\n",
      "INFO:tensorflow:loss = 0.41267216, step = 4300 (0.137 sec)\n",
      "INFO:tensorflow:global_step/sec: 705.615\n",
      "INFO:tensorflow:loss = 0.38723308, step = 4400 (0.142 sec)\n",
      "INFO:tensorflow:global_step/sec: 732.646\n",
      "INFO:tensorflow:loss = 0.39221126, step = 4500 (0.136 sec)\n",
      "INFO:tensorflow:global_step/sec: 601.079\n",
      "INFO:tensorflow:loss = 0.39794695, step = 4600 (0.166 sec)\n",
      "INFO:tensorflow:global_step/sec: 603.657\n",
      "INFO:tensorflow:loss = 0.38562822, step = 4700 (0.166 sec)\n",
      "INFO:tensorflow:global_step/sec: 696.602\n",
      "INFO:tensorflow:loss = 0.38816798, step = 4800 (0.145 sec)\n",
      "INFO:tensorflow:global_step/sec: 632.361\n",
      "INFO:tensorflow:loss = 0.38816002, step = 4900 (0.159 sec)\n",
      "INFO:tensorflow:Calling checkpoint listeners before saving checkpoint 5000...\n",
      "INFO:tensorflow:Saving checkpoints for 5000 into /tmp/tmptkl14vzi/model.ckpt.\n",
      "INFO:tensorflow:Calling checkpoint listeners after saving checkpoint 5000...\n",
      "INFO:tensorflow:Loss for final step: 0.3935699.\n"
     ]
    },
    {
     "data": {
      "text/plain": [
       "<tensorflow_estimator.python.estimator.canned.dnn.DNNClassifierV2 at 0x7f8f7531d9d0>"
      ]
     },
     "execution_count": 14,
     "metadata": {},
     "output_type": "execute_result"
    }
   ],
   "source": [
    "classifier.train(\n",
    "    input_fn=lambda: input_fn(train, y_train, training=True),steps=5000)"
   ]
  },
  {
   "cell_type": "code",
   "execution_count": 15,
   "metadata": {},
   "outputs": [
    {
     "name": "stdout",
     "output_type": "stream",
     "text": [
      "INFO:tensorflow:Calling model_fn.\n",
      "WARNING:tensorflow:Layer dnn is casting an input tensor from dtype float64 to the layer's dtype of float32, which is new behavior in TensorFlow 2.  The layer has dtype float32 because its dtype defaults to floatx.\n",
      "\n",
      "If you intended to run this layer in float32, you can safely ignore this warning. If in doubt, this warning is likely only an issue if you are porting a TensorFlow 1.X model to TensorFlow 2.\n",
      "\n",
      "To change all layers to have dtype float64 by default, call `tf.keras.backend.set_floatx('float64')`. To change just this layer, pass dtype='float64' to the layer constructor. If you are the author of this layer, you can disable autocasting by passing autocast=False to the base Layer constructor.\n",
      "\n",
      "INFO:tensorflow:Done calling model_fn.\n",
      "INFO:tensorflow:Starting evaluation at 2020-08-25T11:48:36Z\n",
      "INFO:tensorflow:Graph was finalized.\n",
      "INFO:tensorflow:Restoring parameters from /tmp/tmptkl14vzi/model.ckpt-5000\n",
      "INFO:tensorflow:Running local_init_op.\n",
      "INFO:tensorflow:Done running local_init_op.\n",
      "INFO:tensorflow:Inference Time : 0.17802s\n",
      "INFO:tensorflow:Finished evaluation at 2020-08-25-11:48:36\n",
      "INFO:tensorflow:Saving dict for global step 5000: accuracy = 0.9, average_loss = 0.45682183, global_step = 5000, loss = 0.45682183\n",
      "INFO:tensorflow:Saving 'checkpoint_path' summary for global step 5000: /tmp/tmptkl14vzi/model.ckpt-5000\n",
      "\n",
      "Test set accuracy: 0.900\n",
      "\n"
     ]
    }
   ],
   "source": [
    "eval_result = classifier.evaluate(\n",
    "    input_fn=lambda: input_fn(test, y_test, training=False))\n",
    "\n",
    "print('\\nTest set accuracy: {accuracy:0.3f}\\n'.format(**eval_result))"
   ]
  },
  {
   "cell_type": "markdown",
   "metadata": {},
   "source": [
    "## Make predictions"
   ]
  },
  {
   "cell_type": "code",
   "execution_count": 18,
   "metadata": {},
   "outputs": [
    {
     "name": "stdout",
     "output_type": "stream",
     "text": [
      "Please type numeric values as prompted.\n",
      "SepalLength: 2.4\n",
      "SepalWidth: 2.2\n",
      "PetalLength: 3.3\n",
      "PetalWidth: 1.4\n",
      "INFO:tensorflow:Calling model_fn.\n",
      "INFO:tensorflow:Done calling model_fn.\n",
      "INFO:tensorflow:Graph was finalized.\n",
      "INFO:tensorflow:Restoring parameters from /tmp/tmptkl14vzi/model.ckpt-5000\n",
      "INFO:tensorflow:Running local_init_op.\n",
      "INFO:tensorflow:Done running local_init_op.\n",
      "Prediction is \"Virginica\" (51.2%)\n"
     ]
    }
   ],
   "source": [
    "def input_fn(features, batch_size=256):\n",
    "    # Convert the inputs to a Dataset without labels.\n",
    "    return tf.data.Dataset.from_tensor_slices(dict(features)).batch(batch_size)\n",
    "\n",
    "features = ['SepalLength', 'SepalWidth', 'PetalLength', 'PetalWidth']\n",
    "predict = {}\n",
    "\n",
    "print(\"Please type numeric values as prompted.\")\n",
    "for feature in features:\n",
    "  valid = True\n",
    "  while valid: \n",
    "    val = input(feature + \": \")\n",
    "    if not val.isdigit(): valid = False\n",
    "\n",
    "  predict[feature] = [float(val)]\n",
    "\n",
    "predictions = classifier.predict(input_fn=lambda: input_fn(predict))\n",
    "for pred_dict in predictions:\n",
    "    class_id = pred_dict['class_ids'][0]\n",
    "    probability = pred_dict['probabilities'][class_id]\n",
    "\n",
    "    print('Prediction is \"{}\" ({:.1f}%)'.format(\n",
    "        SPECIES[class_id], 100 * probability))\n"
   ]
  },
  {
   "cell_type": "code",
   "execution_count": null,
   "metadata": {},
   "outputs": [],
   "source": []
  },
  {
   "cell_type": "code",
   "execution_count": null,
   "metadata": {},
   "outputs": [],
   "source": []
  }
 ],
 "metadata": {
  "kernelspec": {
   "display_name": "Python 3",
   "language": "python",
   "name": "python3"
  },
  "language_info": {
   "codemirror_mode": {
    "name": "ipython",
    "version": 3
   },
   "file_extension": ".py",
   "mimetype": "text/x-python",
   "name": "python",
   "nbconvert_exporter": "python",
   "pygments_lexer": "ipython3",
   "version": "3.7.6"
  }
 },
 "nbformat": 4,
 "nbformat_minor": 4
}
